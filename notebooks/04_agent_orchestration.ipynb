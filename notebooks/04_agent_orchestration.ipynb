{
 "cells": [
  {
   "cell_type": "markdown",
   "metadata": {},
   "source": [
    "# 4. Agent Orchestration\n",
    "\n",
    "This notebook demonstrates how the different agents can be orchestrated to generate advice."
   ]
  },
  {
   "cell_type": "code",
   "execution_count": null,
   "metadata": {},
   "outputs": [],
   "source": [
    "import sys\n",
    "sys.path.append('../')\n",
    "from src.agents.crop_specialist import CropSpecialistAgent\n",
    "from src.agents.pest_detection import PestDetectionAgent\n",
    "from src.agents.climate_advisor import ClimateAdvisorAgent\n",
    "from src.agents.market_intelligence import MarketIntelligenceAgent\n",
    "from src.agents.knowledge_synthesis import KnowledgeSynthesisAgent\n",
    "from src.rag.retrieval_engine import RetrievalEngine\n",
    "from src.rag.vector_store import VectorStore\n",
    "from src.rag.document_processor import DocumentProcessor\n",
    "from src.rag.context_manager import ContextManager"
   ]
  },
  {
   "cell_type": "markdown",
   "metadata": {},
   "source": [
    "## Initialize the components"
   ]
  },
  {
   "cell_type": "code",
   "execution_count": null,
   "metadata": {},
   "outputs": [],
   "source": [
    "vector_store = VectorStore()\n",
    "document_processor = DocumentProcessor(vector_store)\n",
    "retrieval_engine = RetrievalEngine(vector_store)\n",
    "context_manager = ContextManager()\n",
    "crop_specialist = CropSpecialistAgent()\n",
    "pest_detector = PestDetectionAgent()\n",
    "climate_advisor = ClimateAdvisorAgent()\n",
    "market_intel = MarketIntelligenceAgent()\n",
    "knowledge_synthesizer = KnowledgeSynthesisAgent(retrieval_engine)"
   ]
  },
  {
   "cell_type": "markdown",
   "metadata": {},
   "source": [
    "## Get user context"
   ]
  },
  {
   "cell_type": "code",
   "execution_count": null,
   "metadata": {},
   "outputs": [],
   "source": [
    "user_context = context_manager.get_context('user123')"
   ]
  },
  {
   "cell_type": "markdown",
   "metadata": {},
   "source": [
    "## Run the agents"
   ]
  },
  {
   "cell_type": "code",
   "execution_count": null,
   "metadata": {},
   "outputs": [],
   "source": [
    "crop_recommendation = crop_specialist.recommend_crop(user_context['location'], user_context['soil_type'], user_context['season'])\n",
    "pest_detection = pest_detector.detect_pest('dummy_image.jpg')\n",
    "weather_forecast = climate_advisor.get_weather_forecast(user_context['location'])\n",
    "market_price = market_intel.get_market_price(crop_recommendation)"
   ]
  },
  {
   "cell_type": "markdown",
   "metadata": {},
   "source": [
    "## Generate advice"
   ]
  },
  {
   "cell_type": "code",
   "execution_count": null,
   "metadata": {},
   "outputs": [],
   "source": [
    "advice = knowledge_synthesizer.generate_advice(crop_recommendation, pest_detection, weather_forecast, market_price)\n",
    "print(advice)"
   ]
  }
 ],
 "metadata": {
  "kernelspec": {
   "display_name": "Python 3",
   "language": "python",
   "name": "python3"
  },
  "language_info": {
   "codemirror_mode": {
    "name": "ipython",
    "version": 3
   },
   "file_extension": ".py",
   "mimetype": "text/x-python",
   "name": "python",
   "nbconvert_exporter": "python",
   "pygments_lexer": "ipython3",
   "version": "3.9.6"
  }
 },
 "nbformat": 4,
 "nbformat_minor": 4
}